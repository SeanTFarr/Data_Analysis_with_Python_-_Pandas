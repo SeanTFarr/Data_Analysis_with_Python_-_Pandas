{
 "cells": [
  {
   "cell_type": "markdown",
   "id": "49760a3f",
   "metadata": {},
   "source": [
    "# Pandas Series Play"
   ]
  },
  {
   "cell_type": "code",
   "execution_count": 1,
   "id": "679a22d4",
   "metadata": {},
   "outputs": [],
   "source": [
    "# import libraries needed\n",
    "import numpy as np\n",
    "import pandas as pd"
   ]
  },
  {
   "cell_type": "code",
   "execution_count": 2,
   "id": "94c23a5b",
   "metadata": {},
   "outputs": [
    {
     "data": {
      "text/plain": [
       "0    0\n",
       "1    1\n",
       "2    2\n",
       "3    3\n",
       "4    4\n",
       "dtype: int32"
      ]
     },
     "execution_count": 2,
     "metadata": {},
     "output_type": "execute_result"
    }
   ],
   "source": [
    "# create an array with 5 integers\n",
    "array = np.arange(5)\n",
    "#call it in a series\n",
    "pd.Series(array)\n"
   ]
  },
  {
   "cell_type": "code",
   "execution_count": 3,
   "id": "dccec06a",
   "metadata": {},
   "outputs": [
    {
     "data": {
      "text/plain": [
       "0    0\n",
       "1    1\n",
       "2    2\n",
       "3    3\n",
       "4    4\n",
       "dtype: int32"
      ]
     },
     "execution_count": 3,
     "metadata": {},
     "output_type": "execute_result"
    }
   ],
   "source": [
    "#a simplified version of the above cell\n",
    "pd.Series(np.arange(5))"
   ]
  },
  {
   "cell_type": "code",
   "execution_count": 4,
   "id": "2e8a262e",
   "metadata": {},
   "outputs": [
    {
     "data": {
      "text/plain": [
       "0    0\n",
       "1    1\n",
       "2    2\n",
       "3    3\n",
       "4    4\n",
       "Name: Test Array, dtype: int32"
      ]
     },
     "execution_count": 4,
     "metadata": {},
     "output_type": "execute_result"
    }
   ],
   "source": [
    "#adding \"name\" to the series \n",
    "pd.Series(np.arange(5), name=\"Test Array\")"
   ]
  },
  {
   "cell_type": "code",
   "execution_count": 5,
   "id": "b5004d44",
   "metadata": {},
   "outputs": [],
   "source": [
    "#storing it as an object to look at the properties\n",
    "series = pd.Series(np.arange(5), name=\"Test Array\")"
   ]
  },
  {
   "cell_type": "code",
   "execution_count": 6,
   "id": "78f88b22",
   "metadata": {},
   "outputs": [
    {
     "data": {
      "text/plain": [
       "array([0, 1, 2, 3, 4])"
      ]
     },
     "execution_count": 6,
     "metadata": {},
     "output_type": "execute_result"
    }
   ],
   "source": [
    "series.values"
   ]
  },
  {
   "cell_type": "code",
   "execution_count": 7,
   "id": "368f2e37",
   "metadata": {},
   "outputs": [
    {
     "data": {
      "text/plain": [
       "2.0"
      ]
     },
     "execution_count": 7,
     "metadata": {},
     "output_type": "execute_result"
    }
   ],
   "source": [
    "series.values.mean() #numpy method"
   ]
  },
  {
   "cell_type": "code",
   "execution_count": 8,
   "id": "d9a8731c",
   "metadata": {},
   "outputs": [
    {
     "data": {
      "text/plain": [
       "2.0"
      ]
     },
     "execution_count": 8,
     "metadata": {},
     "output_type": "execute_result"
    }
   ],
   "source": [
    "series.mean() #pandas method"
   ]
  },
  {
   "cell_type": "code",
   "execution_count": 9,
   "id": "67d6adab",
   "metadata": {},
   "outputs": [
    {
     "data": {
      "text/plain": [
       "10    0\n",
       "20    1\n",
       "30    2\n",
       "40    3\n",
       "50    4\n",
       "Name: Test Array, dtype: int32"
      ]
     },
     "execution_count": 9,
     "metadata": {},
     "output_type": "execute_result"
    }
   ],
   "source": [
    "#to change the index\n",
    "series.index = [10,20,30,40,50]\n",
    "series"
   ]
  },
  {
   "cell_type": "code",
   "execution_count": 10,
   "id": "ddc4ede9",
   "metadata": {},
   "outputs": [
    {
     "data": {
      "text/plain": [
       "10    0\n",
       "20    1\n",
       "30    2\n",
       "40    3\n",
       "50    4\n",
       "Name:  Series rename, dtype: int32"
      ]
     },
     "execution_count": 10,
     "metadata": {},
     "output_type": "execute_result"
    }
   ],
   "source": [
    "#to change name of series\n",
    "series.name=\" Series rename\"\n",
    "series"
   ]
  },
  {
   "cell_type": "markdown",
   "id": "3ee88d09",
   "metadata": {},
   "source": [
    "## .astype"
   ]
  },
  {
   "cell_type": "code",
   "execution_count": 11,
   "id": "04787872",
   "metadata": {},
   "outputs": [
    {
     "data": {
      "text/plain": [
       "0    0\n",
       "1    1\n",
       "2    2\n",
       "3    3\n",
       "4    4\n",
       "Name: Type Test, dtype: int32"
      ]
     },
     "execution_count": 11,
     "metadata": {},
     "output_type": "execute_result"
    }
   ],
   "source": [
    "#new array to test the \"astype\" function\n",
    "pd.Series(np.arange(5), name=\"Type Test\")"
   ]
  },
  {
   "cell_type": "code",
   "execution_count": 12,
   "id": "c9495055",
   "metadata": {},
   "outputs": [
    {
     "data": {
      "text/plain": [
       "0    0.0\n",
       "1    1.0\n",
       "2    2.0\n",
       "3    3.0\n",
       "4    4.0\n",
       "Name: Test Array, dtype: float64"
      ]
     },
     "execution_count": 12,
     "metadata": {},
     "output_type": "execute_result"
    }
   ],
   "source": [
    "#changing to float\n",
    "pd.Series(np.arange(5), name=\"Test Array\").astype('float')"
   ]
  },
  {
   "cell_type": "code",
   "execution_count": 13,
   "id": "24219bd8",
   "metadata": {},
   "outputs": [
    {
     "data": {
      "text/plain": [
       "0    False\n",
       "1     True\n",
       "2     True\n",
       "3     True\n",
       "4     True\n",
       "Name: Test Array, dtype: bool"
      ]
     },
     "execution_count": 13,
     "metadata": {},
     "output_type": "execute_result"
    }
   ],
   "source": [
    "#changing to boolean\n",
    "pd.Series(np.arange(5), name=\"Test Array\").astype('bool')"
   ]
  },
  {
   "cell_type": "code",
   "execution_count": 14,
   "id": "4a951788",
   "metadata": {},
   "outputs": [
    {
     "data": {
      "text/plain": [
       "0    0\n",
       "1    1\n",
       "2    2\n",
       "3    3\n",
       "4    4\n",
       "Name: Test Array, dtype: object"
      ]
     },
     "execution_count": 14,
     "metadata": {},
     "output_type": "execute_result"
    }
   ],
   "source": [
    "#changing to object\n",
    "pd.Series(np.arange(5), name=\"Test Array\").astype('object')"
   ]
  },
  {
   "cell_type": "code",
   "execution_count": 15,
   "id": "2eb4ad01",
   "metadata": {},
   "outputs": [
    {
     "data": {
      "text/plain": [
       "0    0\n",
       "1    1\n",
       "2    2\n",
       "3    3\n",
       "4    4\n",
       "Name: Test Array, dtype: int32"
      ]
     },
     "execution_count": 15,
     "metadata": {},
     "output_type": "execute_result"
    }
   ],
   "source": [
    "#changing back to an integer\n",
    "pd.Series(np.arange(5), name=\"Test Array\").astype('int')"
   ]
  },
  {
   "cell_type": "markdown",
   "id": "171a3819",
   "metadata": {},
   "source": [
    "##  the index"
   ]
  },
  {
   "cell_type": "code",
   "execution_count": 16,
   "id": "2a7bace5",
   "metadata": {},
   "outputs": [
    {
     "data": {
      "text/plain": [
       "coffee       0\n",
       "bananas      5\n",
       "tea        155\n",
       "coconut      0\n",
       "sugar      518\n",
       "Name: Sales, dtype: int64"
      ]
     },
     "execution_count": 16,
     "metadata": {},
     "output_type": "execute_result"
    }
   ],
   "source": [
    "sales = [0,5,155,0,518]\n",
    "items = [\"coffee\", \"bananas\", \"tea\", \"coconut\", \"sugar\"]\n",
    "\n",
    "sales_series = pd.Series(sales, index = items, name=\"Sales\")\n",
    "sales_series"
   ]
  },
  {
   "cell_type": "code",
   "execution_count": 17,
   "id": "aede260b",
   "metadata": {},
   "outputs": [
    {
     "data": {
      "text/plain": [
       "155"
      ]
     },
     "execution_count": 17,
     "metadata": {},
     "output_type": "execute_result"
    }
   ],
   "source": [
    "sales_series[\"tea\"]"
   ]
  },
  {
   "cell_type": "code",
   "execution_count": 18,
   "id": "4ba314ef",
   "metadata": {},
   "outputs": [
    {
     "data": {
      "text/plain": [
       "0    0\n",
       "1    1\n",
       "2    2\n",
       "3    3\n",
       "4    4\n",
       "dtype: int64"
      ]
     },
     "execution_count": 18,
     "metadata": {},
     "output_type": "execute_result"
    }
   ],
   "source": [
    "my_series = pd.Series(range(5))\n",
    "\n",
    "my_series"
   ]
  },
  {
   "cell_type": "code",
   "execution_count": 19,
   "id": "10d54cc9",
   "metadata": {},
   "outputs": [
    {
     "data": {
      "text/plain": [
       "3"
      ]
     },
     "execution_count": 19,
     "metadata": {},
     "output_type": "execute_result"
    }
   ],
   "source": [
    "my_series[3]"
   ]
  },
  {
   "cell_type": "code",
   "execution_count": 20,
   "id": "2e26e437",
   "metadata": {},
   "outputs": [
    {
     "data": {
      "text/plain": [
       "1    1\n",
       "3    3\n",
       "dtype: int64"
      ]
     },
     "execution_count": 20,
     "metadata": {},
     "output_type": "execute_result"
    }
   ],
   "source": [
    "my_series[1::2]"
   ]
  },
  {
   "cell_type": "code",
   "execution_count": 21,
   "id": "01dc620f",
   "metadata": {},
   "outputs": [
    {
     "data": {
      "text/plain": [
       "0    0\n",
       "1    1\n",
       "2    2\n",
       "3    3\n",
       "dtype: int64"
      ]
     },
     "execution_count": 21,
     "metadata": {},
     "output_type": "execute_result"
    }
   ],
   "source": [
    "my_series[:4]"
   ]
  },
  {
   "cell_type": "code",
   "execution_count": 22,
   "id": "1ff0e7ef",
   "metadata": {},
   "outputs": [
    {
     "data": {
      "text/plain": [
       "Day 0    0\n",
       "Day 1    1\n",
       "Day 2    2\n",
       "Day 3    3\n",
       "Day 4    4\n",
       "dtype: int64"
      ]
     },
     "execution_count": 22,
     "metadata": {},
     "output_type": "execute_result"
    }
   ],
   "source": [
    "my_series2 = pd.Series(range(5), index=['Day 0', 'Day 1', 'Day 2', 'Day 3', 'Day 4'])\n",
    "my_series2"
   ]
  },
  {
   "cell_type": "code",
   "execution_count": 23,
   "id": "7d63de3b",
   "metadata": {},
   "outputs": [
    {
     "data": {
      "text/plain": [
       "2"
      ]
     },
     "execution_count": 23,
     "metadata": {},
     "output_type": "execute_result"
    }
   ],
   "source": [
    "my_series2[\"Day 2\"]"
   ]
  },
  {
   "cell_type": "code",
   "execution_count": 24,
   "id": "abd12683",
   "metadata": {},
   "outputs": [
    {
     "data": {
      "text/plain": [
       "Day 2    2\n",
       "Day 3    3\n",
       "Day 4    4\n",
       "dtype: int64"
      ]
     },
     "execution_count": 24,
     "metadata": {},
     "output_type": "execute_result"
    }
   ],
   "source": [
    "my_series2[\"Day 2\":\"Day 4\"]"
   ]
  },
  {
   "cell_type": "code",
   "execution_count": 25,
   "id": "caf2a212",
   "metadata": {},
   "outputs": [
    {
     "data": {
      "text/plain": [
       "Day 0    0\n",
       "Day 2    2\n",
       "Day 4    4\n",
       "dtype: int64"
      ]
     },
     "execution_count": 25,
     "metadata": {},
     "output_type": "execute_result"
    }
   ],
   "source": [
    "my_series2[::2]"
   ]
  },
  {
   "cell_type": "code",
   "execution_count": 26,
   "id": "c7f95d1d",
   "metadata": {},
   "outputs": [
    {
     "data": {
      "text/plain": [
       "Day 1    1\n",
       "Day 3    3\n",
       "dtype: int64"
      ]
     },
     "execution_count": 26,
     "metadata": {},
     "output_type": "execute_result"
    }
   ],
   "source": [
    "my_series2[\"Day 1\"::2]"
   ]
  },
  {
   "cell_type": "markdown",
   "id": "5ab4bcfa",
   "metadata": {},
   "source": [
    "## .iloc Method vs .loc"
   ]
  },
  {
   "cell_type": "code",
   "execution_count": 27,
   "id": "c863bb0d",
   "metadata": {},
   "outputs": [
    {
     "data": {
      "text/plain": [
       "2"
      ]
     },
     "execution_count": 27,
     "metadata": {},
     "output_type": "execute_result"
    }
   ],
   "source": [
    "my_series2.iloc[2]"
   ]
  },
  {
   "cell_type": "code",
   "execution_count": 28,
   "id": "8d3a0304",
   "metadata": {},
   "outputs": [
    {
     "ename": "TypeError",
     "evalue": "Cannot index by location index with a non-integer key",
     "output_type": "error",
     "traceback": [
      "\u001b[1;31m---------------------------------------------------------------------------\u001b[0m",
      "\u001b[1;31mTypeError\u001b[0m                                 Traceback (most recent call last)",
      "Cell \u001b[1;32mIn[28], line 2\u001b[0m\n\u001b[0;32m      1\u001b[0m \u001b[38;5;66;03m# .iloc works off of index, a named index doesn't work\u001b[39;00m\n\u001b[1;32m----> 2\u001b[0m \u001b[43mmy_series2\u001b[49m\u001b[38;5;241;43m.\u001b[39;49m\u001b[43miloc\u001b[49m\u001b[43m[\u001b[49m\u001b[38;5;124;43m'\u001b[39;49m\u001b[38;5;124;43mDay 4\u001b[39;49m\u001b[38;5;124;43m'\u001b[39;49m\u001b[43m]\u001b[49m\n",
      "File \u001b[1;32m~\\anaconda3\\lib\\site-packages\\pandas\\core\\indexing.py:1073\u001b[0m, in \u001b[0;36m_LocationIndexer.__getitem__\u001b[1;34m(self, key)\u001b[0m\n\u001b[0;32m   1070\u001b[0m axis \u001b[38;5;241m=\u001b[39m \u001b[38;5;28mself\u001b[39m\u001b[38;5;241m.\u001b[39maxis \u001b[38;5;129;01mor\u001b[39;00m \u001b[38;5;241m0\u001b[39m\n\u001b[0;32m   1072\u001b[0m maybe_callable \u001b[38;5;241m=\u001b[39m com\u001b[38;5;241m.\u001b[39mapply_if_callable(key, \u001b[38;5;28mself\u001b[39m\u001b[38;5;241m.\u001b[39mobj)\n\u001b[1;32m-> 1073\u001b[0m \u001b[38;5;28;01mreturn\u001b[39;00m \u001b[38;5;28;43mself\u001b[39;49m\u001b[38;5;241;43m.\u001b[39;49m\u001b[43m_getitem_axis\u001b[49m\u001b[43m(\u001b[49m\u001b[43mmaybe_callable\u001b[49m\u001b[43m,\u001b[49m\u001b[43m \u001b[49m\u001b[43maxis\u001b[49m\u001b[38;5;241;43m=\u001b[39;49m\u001b[43maxis\u001b[49m\u001b[43m)\u001b[49m\n",
      "File \u001b[1;32m~\\anaconda3\\lib\\site-packages\\pandas\\core\\indexing.py:1622\u001b[0m, in \u001b[0;36m_iLocIndexer._getitem_axis\u001b[1;34m(self, key, axis)\u001b[0m\n\u001b[0;32m   1620\u001b[0m key \u001b[38;5;241m=\u001b[39m item_from_zerodim(key)\n\u001b[0;32m   1621\u001b[0m \u001b[38;5;28;01mif\u001b[39;00m \u001b[38;5;129;01mnot\u001b[39;00m is_integer(key):\n\u001b[1;32m-> 1622\u001b[0m     \u001b[38;5;28;01mraise\u001b[39;00m \u001b[38;5;167;01mTypeError\u001b[39;00m(\u001b[38;5;124m\"\u001b[39m\u001b[38;5;124mCannot index by location index with a non-integer key\u001b[39m\u001b[38;5;124m\"\u001b[39m)\n\u001b[0;32m   1624\u001b[0m \u001b[38;5;66;03m# validate the location\u001b[39;00m\n\u001b[0;32m   1625\u001b[0m \u001b[38;5;28mself\u001b[39m\u001b[38;5;241m.\u001b[39m_validate_integer(key, axis)\n",
      "\u001b[1;31mTypeError\u001b[0m: Cannot index by location index with a non-integer key"
     ]
    }
   ],
   "source": [
    "# .iloc works off of index, a named index doesn't work\n",
    "my_series2.iloc['Day 4']"
   ]
  },
  {
   "cell_type": "code",
   "execution_count": 29,
   "id": "0202cba0",
   "metadata": {},
   "outputs": [
    {
     "data": {
      "text/plain": [
       "4"
      ]
     },
     "execution_count": 29,
     "metadata": {},
     "output_type": "execute_result"
    }
   ],
   "source": [
    "# .loc works either way\n",
    "my_series2.loc['Day 4']"
   ]
  },
  {
   "cell_type": "code",
   "execution_count": 30,
   "id": "6929dcf7",
   "metadata": {},
   "outputs": [
    {
     "data": {
      "text/plain": [
       "4"
      ]
     },
     "execution_count": 30,
     "metadata": {},
     "output_type": "execute_result"
    }
   ],
   "source": [
    "my_series2.iloc[4]"
   ]
  },
  {
   "cell_type": "markdown",
   "id": "3f0c7e3a",
   "metadata": {},
   "source": [
    "## Numeric Series Operations"
   ]
  },
  {
   "cell_type": "code",
   "execution_count": 31,
   "id": "b9629280",
   "metadata": {},
   "outputs": [
    {
     "data": {
      "text/plain": [
       "Day 0    1.0\n",
       "Day 1    NaN\n",
       "Day 2    3.0\n",
       "Day 3    4.0\n",
       "Day 4    5.0\n",
       "dtype: float64"
      ]
     },
     "execution_count": 31,
     "metadata": {},
     "output_type": "execute_result"
    }
   ],
   "source": [
    "num_series =pd.Series([1,np.NaN,3,4,5], index=['Day 0', 'Day 1', 'Day 2', 'Day 3', 'Day 4'])\n",
    "num_series"
   ]
  },
  {
   "cell_type": "code",
   "execution_count": 32,
   "id": "d7210203",
   "metadata": {},
   "outputs": [
    {
     "data": {
      "text/plain": [
       "Day 0    2.0\n",
       "Day 1    NaN\n",
       "Day 2    4.0\n",
       "Day 3    5.0\n",
       "Day 4    6.0\n",
       "dtype: float64"
      ]
     },
     "execution_count": 32,
     "metadata": {},
     "output_type": "execute_result"
    }
   ],
   "source": [
    "#adding 1 to the series only affects the numeric values, not the NaN\n",
    "num_series +1"
   ]
  },
  {
   "cell_type": "code",
   "execution_count": 33,
   "id": "384ba0ae",
   "metadata": {},
   "outputs": [
    {
     "data": {
      "text/plain": [
       "Day 0    2.0\n",
       "Day 1    1.0\n",
       "Day 2    4.0\n",
       "Day 3    5.0\n",
       "Day 4    6.0\n",
       "dtype: float64"
      ]
     },
     "execution_count": 33,
     "metadata": {},
     "output_type": "execute_result"
    }
   ],
   "source": [
    "# to fill in the NaN\n",
    "num_series.add(1,fill_value=0)"
   ]
  },
  {
   "cell_type": "code",
   "execution_count": 34,
   "id": "dde74624",
   "metadata": {},
   "outputs": [
    {
     "data": {
      "text/plain": [
       "Day 0    2.0\n",
       "Day 1    1.0\n",
       "Day 2    4.0\n",
       "Day 3    5.0\n",
       "Day 4    6.0\n",
       "dtype: float64"
      ]
     },
     "execution_count": 34,
     "metadata": {},
     "output_type": "execute_result"
    }
   ],
   "source": [
    "#create new series by naming it\n",
    "num_series2 =num_series.add(1,fill_value=0)\n",
    "num_series2"
   ]
  },
  {
   "cell_type": "code",
   "execution_count": 35,
   "id": "231296e4",
   "metadata": {},
   "outputs": [
    {
     "data": {
      "text/plain": [
       "Day 0    1.0\n",
       "Day 1    0.5\n",
       "Day 2    2.0\n",
       "Day 3    2.5\n",
       "Day 4    3.0\n",
       "dtype: float64"
      ]
     },
     "execution_count": 35,
     "metadata": {},
     "output_type": "execute_result"
    }
   ],
   "source": [
    "num_series2 / 2"
   ]
  },
  {
   "cell_type": "markdown",
   "id": "6a5357e5",
   "metadata": {},
   "source": [
    "## String Methods"
   ]
  },
  {
   "cell_type": "code",
   "execution_count": null,
   "id": "ec6e08b0",
   "metadata": {},
   "outputs": [],
   "source": [
    "#all calls start  with the series, then \".str\" and then the operation"
   ]
  },
  {
   "cell_type": "markdown",
   "id": "21f38e0c",
   "metadata": {},
   "source": [
    "## Numeric Series Aggregation"
   ]
  },
  {
   "cell_type": "code",
   "execution_count": 36,
   "id": "d043d58f",
   "metadata": {},
   "outputs": [
    {
     "data": {
      "text/plain": [
       "0     770\n",
       "1    2111\n",
       "2    2358\n",
       "3    3487\n",
       "4    1922\n",
       "Name: transactions, dtype: int64"
      ]
     },
     "execution_count": 36,
     "metadata": {},
     "output_type": "execute_result"
    }
   ],
   "source": [
    "transactions = pd.read_csv(\"../retail/transactions.csv\")\n",
    "\n",
    "transactions_series = pd.Series(transactions[\"transactions\"])\n",
    "\n",
    "transactions_series.iloc[:5]"
   ]
  },
  {
   "cell_type": "code",
   "execution_count": 37,
   "id": "0639cd8a",
   "metadata": {},
   "outputs": [
    {
     "data": {
      "text/plain": [
       "83488"
      ]
     },
     "execution_count": 37,
     "metadata": {},
     "output_type": "execute_result"
    }
   ],
   "source": [
    "transactions_series.count()"
   ]
  },
  {
   "cell_type": "code",
   "execution_count": 38,
   "id": "4e9320fb",
   "metadata": {},
   "outputs": [
    {
     "data": {
      "text/plain": [
       "1694.6021583940208"
      ]
     },
     "execution_count": 38,
     "metadata": {},
     "output_type": "execute_result"
    }
   ],
   "source": [
    "transactions_series.mean()"
   ]
  },
  {
   "cell_type": "code",
   "execution_count": 39,
   "id": "4601d794",
   "metadata": {},
   "outputs": [
    {
     "data": {
      "text/plain": [
       "0.5    1393.0\n",
       "Name: transactions, dtype: float64"
      ]
     },
     "execution_count": 39,
     "metadata": {},
     "output_type": "execute_result"
    }
   ],
   "source": [
    "transactions_series.quantile([.5])"
   ]
  },
  {
   "cell_type": "code",
   "execution_count": 40,
   "id": "d0b2412e",
   "metadata": {},
   "outputs": [
    {
     "data": {
      "text/plain": [
       "0.25    1046.0\n",
       "0.50    1393.0\n",
       "0.75    2079.0\n",
       "Name: transactions, dtype: float64"
      ]
     },
     "execution_count": 40,
     "metadata": {},
     "output_type": "execute_result"
    }
   ],
   "source": [
    "transactions_series.quantile([.25, .5, .75])"
   ]
  },
  {
   "cell_type": "code",
   "execution_count": 41,
   "id": "d4823f94",
   "metadata": {},
   "outputs": [
    {
     "data": {
      "text/plain": [
       "141478945"
      ]
     },
     "execution_count": 41,
     "metadata": {},
     "output_type": "execute_result"
    }
   ],
   "source": [
    "transactions_series.sum()"
   ]
  },
  {
   "cell_type": "code",
   "execution_count": null,
   "id": "c24cadf0",
   "metadata": {},
   "outputs": [],
   "source": []
  },
  {
   "cell_type": "markdown",
   "id": "9e0682fb",
   "metadata": {},
   "source": [
    "## Categorical Series Aggregation"
   ]
  },
  {
   "cell_type": "code",
   "execution_count": 44,
   "id": "6a72e1bb",
   "metadata": {},
   "outputs": [
    {
     "data": {
      "text/plain": [
       "5"
      ]
     },
     "execution_count": 44,
     "metadata": {},
     "output_type": "execute_result"
    }
   ],
   "source": [
    "my_series.nunique()"
   ]
  },
  {
   "cell_type": "code",
   "execution_count": 45,
   "id": "efb8b7b0",
   "metadata": {},
   "outputs": [
    {
     "data": {
      "text/plain": [
       "array([0, 1, 2, 3, 4], dtype=int64)"
      ]
     },
     "execution_count": 45,
     "metadata": {},
     "output_type": "execute_result"
    }
   ],
   "source": [
    "my_series.unique()"
   ]
  },
  {
   "cell_type": "markdown",
   "id": "cd55b901",
   "metadata": {},
   "source": [
    "## Missing Data"
   ]
  },
  {
   "cell_type": "code",
   "execution_count": null,
   "id": "1ccd06c4",
   "metadata": {},
   "outputs": [],
   "source": []
  },
  {
   "cell_type": "code",
   "execution_count": null,
   "id": "21349e9d",
   "metadata": {},
   "outputs": [],
   "source": []
  }
 ],
 "metadata": {
  "kernelspec": {
   "display_name": "Python 3 (ipykernel)",
   "language": "python",
   "name": "python3"
  },
  "language_info": {
   "codemirror_mode": {
    "name": "ipython",
    "version": 3
   },
   "file_extension": ".py",
   "mimetype": "text/x-python",
   "name": "python",
   "nbconvert_exporter": "python",
   "pygments_lexer": "ipython3",
   "version": "3.8.8"
  }
 },
 "nbformat": 4,
 "nbformat_minor": 5
}
