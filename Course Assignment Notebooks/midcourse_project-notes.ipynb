{
 "cells": [
  {
   "cell_type": "markdown",
   "id": "e6bd69f2",
   "metadata": {},
   "source": [
    "# Mid-Course Project Notes\n",
    "\n",
    "Hi There, and thanks for your help. If you're reading this you've been selected to help on a secret initiative.\n",
    "\n",
    "You will be helping us analyze a portion of data from a company we want to acquire, which could greatly improve the fortunes of Maven Mega Mart.\n",
    "\n",
    "We'll be working with `project_transactions.csv` and briefly take a look at `product.csv`.\n",
    "\n",
    "First, read in the transactions data and explore it.\n",
    "\n",
    "* Take a look at the raw data, the datatypes, and cast `DAY`, `QUANTITY`, `STORE_ID`, and `WEEK_NO` columns to the smallest appropriate datatype. Check the memory reduction by doing so.\n",
    "* Is there any missing data?\n",
    "* How many unique households and products are there in the data? The fields household_key and Product_ID will help here."
   ]
  },
  {
   "cell_type": "code",
   "execution_count": 1,
   "id": "048c011c",
   "metadata": {},
   "outputs": [],
   "source": [
    "import pandas as pd\n",
    "import numpy as np"
   ]
  },
  {
   "cell_type": "code",
   "execution_count": 2,
   "id": "c019ac8e",
   "metadata": {},
   "outputs": [],
   "source": [
    "transactions = pd.read_csv(\"../project_data/project_transactions.csv\",\n",
    "                          dtype={\"DAY\":\"Int16\",\n",
    "                                  \"QUANTITY\":\"Int32\",\n",
    "                                  \"STORE_ID\":\"Int32\",\n",
    "                                  \"WEEK_NO\":\"Int8\"})\n",
    "#changing the dtype to any lower int set off a TypeError \"TypeError: cannot safely cast non-equivalent int64 to int8\""
   ]
  },
  {
   "cell_type": "code",
   "execution_count": 3,
   "id": "20749686",
   "metadata": {},
   "outputs": [
    {
     "data": {
      "text/html": [
       "<div>\n",
       "<style scoped>\n",
       "    .dataframe tbody tr th:only-of-type {\n",
       "        vertical-align: middle;\n",
       "    }\n",
       "\n",
       "    .dataframe tbody tr th {\n",
       "        vertical-align: top;\n",
       "    }\n",
       "\n",
       "    .dataframe thead th {\n",
       "        text-align: right;\n",
       "    }\n",
       "</style>\n",
       "<table border=\"1\" class=\"dataframe\">\n",
       "  <thead>\n",
       "    <tr style=\"text-align: right;\">\n",
       "      <th></th>\n",
       "      <th>household_key</th>\n",
       "      <th>BASKET_ID</th>\n",
       "      <th>DAY</th>\n",
       "      <th>PRODUCT_ID</th>\n",
       "      <th>QUANTITY</th>\n",
       "      <th>SALES_VALUE</th>\n",
       "      <th>STORE_ID</th>\n",
       "      <th>RETAIL_DISC</th>\n",
       "      <th>WEEK_NO</th>\n",
       "      <th>COUPON_DISC</th>\n",
       "      <th>COUPON_MATCH_DISC</th>\n",
       "    </tr>\n",
       "  </thead>\n",
       "  <tbody>\n",
       "    <tr>\n",
       "      <th>0</th>\n",
       "      <td>1364</td>\n",
       "      <td>26984896261</td>\n",
       "      <td>1</td>\n",
       "      <td>842930</td>\n",
       "      <td>1</td>\n",
       "      <td>2.19</td>\n",
       "      <td>31742</td>\n",
       "      <td>0.00</td>\n",
       "      <td>1</td>\n",
       "      <td>0.0</td>\n",
       "      <td>0.0</td>\n",
       "    </tr>\n",
       "    <tr>\n",
       "      <th>1</th>\n",
       "      <td>1364</td>\n",
       "      <td>26984896261</td>\n",
       "      <td>1</td>\n",
       "      <td>897044</td>\n",
       "      <td>1</td>\n",
       "      <td>2.99</td>\n",
       "      <td>31742</td>\n",
       "      <td>-0.40</td>\n",
       "      <td>1</td>\n",
       "      <td>0.0</td>\n",
       "      <td>0.0</td>\n",
       "    </tr>\n",
       "    <tr>\n",
       "      <th>2</th>\n",
       "      <td>1364</td>\n",
       "      <td>26984896261</td>\n",
       "      <td>1</td>\n",
       "      <td>920955</td>\n",
       "      <td>1</td>\n",
       "      <td>3.09</td>\n",
       "      <td>31742</td>\n",
       "      <td>0.00</td>\n",
       "      <td>1</td>\n",
       "      <td>0.0</td>\n",
       "      <td>0.0</td>\n",
       "    </tr>\n",
       "    <tr>\n",
       "      <th>3</th>\n",
       "      <td>1364</td>\n",
       "      <td>26984896261</td>\n",
       "      <td>1</td>\n",
       "      <td>937406</td>\n",
       "      <td>1</td>\n",
       "      <td>2.50</td>\n",
       "      <td>31742</td>\n",
       "      <td>-0.99</td>\n",
       "      <td>1</td>\n",
       "      <td>0.0</td>\n",
       "      <td>0.0</td>\n",
       "    </tr>\n",
       "    <tr>\n",
       "      <th>4</th>\n",
       "      <td>1364</td>\n",
       "      <td>26984896261</td>\n",
       "      <td>1</td>\n",
       "      <td>981760</td>\n",
       "      <td>1</td>\n",
       "      <td>0.60</td>\n",
       "      <td>31742</td>\n",
       "      <td>-0.79</td>\n",
       "      <td>1</td>\n",
       "      <td>0.0</td>\n",
       "      <td>0.0</td>\n",
       "    </tr>\n",
       "  </tbody>\n",
       "</table>\n",
       "</div>"
      ],
      "text/plain": [
       "   household_key    BASKET_ID  DAY  PRODUCT_ID  QUANTITY  SALES_VALUE  \\\n",
       "0           1364  26984896261    1      842930         1         2.19   \n",
       "1           1364  26984896261    1      897044         1         2.99   \n",
       "2           1364  26984896261    1      920955         1         3.09   \n",
       "3           1364  26984896261    1      937406         1         2.50   \n",
       "4           1364  26984896261    1      981760         1         0.60   \n",
       "\n",
       "   STORE_ID  RETAIL_DISC  WEEK_NO  COUPON_DISC  COUPON_MATCH_DISC  \n",
       "0     31742         0.00        1          0.0                0.0  \n",
       "1     31742        -0.40        1          0.0                0.0  \n",
       "2     31742         0.00        1          0.0                0.0  \n",
       "3     31742        -0.99        1          0.0                0.0  \n",
       "4     31742        -0.79        1          0.0                0.0  "
      ]
     },
     "execution_count": 3,
     "metadata": {},
     "output_type": "execute_result"
    }
   ],
   "source": [
    "transactions.head()"
   ]
  },
  {
   "cell_type": "code",
   "execution_count": 4,
   "id": "4c10e5f5",
   "metadata": {},
   "outputs": [
    {
     "name": "stdout",
     "output_type": "stream",
     "text": [
      "<class 'pandas.core.frame.DataFrame'>\n",
      "RangeIndex: 2146311 entries, 0 to 2146310\n",
      "Data columns (total 11 columns):\n",
      " #   Column             Dtype  \n",
      "---  ------             -----  \n",
      " 0   household_key      int64  \n",
      " 1   BASKET_ID          int64  \n",
      " 2   DAY                Int16  \n",
      " 3   PRODUCT_ID         int64  \n",
      " 4   QUANTITY           Int32  \n",
      " 5   SALES_VALUE        float64\n",
      " 6   STORE_ID           Int32  \n",
      " 7   RETAIL_DISC        float64\n",
      " 8   WEEK_NO            Int8   \n",
      " 9   COUPON_DISC        float64\n",
      " 10  COUPON_MATCH_DISC  float64\n",
      "dtypes: Int16(1), Int32(2), Int8(1), float64(4), int64(3)\n",
      "memory usage: 145.3 MB\n"
     ]
    }
   ],
   "source": [
    "transactions.info(memory_usage=\"deep\")"
   ]
  },
  {
   "cell_type": "code",
   "execution_count": 5,
   "id": "22fb8381",
   "metadata": {},
   "outputs": [],
   "source": [
    "transactions = transactions.astype(\n",
    "    {\"DAY\":\"Int8\",\n",
    "    \"QUANTITY\":\"Int16\",\n",
    "    \"STORE_ID\":\"Int16\",\n",
    "    \"WEEK_NO\":\"Int8\"}\n",
    "\n",
    ")# changing them at this level, not in the original read, allowed a lower dtype(shaved off another 1.2MB!) \n"
   ]
  },
  {
   "cell_type": "code",
   "execution_count": 6,
   "id": "c6fdf78f",
   "metadata": {},
   "outputs": [
    {
     "name": "stdout",
     "output_type": "stream",
     "text": [
      "<class 'pandas.core.frame.DataFrame'>\n",
      "RangeIndex: 2146311 entries, 0 to 2146310\n",
      "Data columns (total 11 columns):\n",
      " #   Column             Dtype  \n",
      "---  ------             -----  \n",
      " 0   household_key      int64  \n",
      " 1   BASKET_ID          int64  \n",
      " 2   DAY                Int8   \n",
      " 3   PRODUCT_ID         int64  \n",
      " 4   QUANTITY           Int16  \n",
      " 5   SALES_VALUE        float64\n",
      " 6   STORE_ID           Int16  \n",
      " 7   RETAIL_DISC        float64\n",
      " 8   WEEK_NO            Int8   \n",
      " 9   COUPON_DISC        float64\n",
      " 10  COUPON_MATCH_DISC  float64\n",
      "dtypes: Int16(2), Int8(2), float64(4), int64(3)\n",
      "memory usage: 135.1 MB\n"
     ]
    }
   ],
   "source": [
    "transactions.info(memory_usage=\"deep\")"
   ]
  },
  {
   "cell_type": "code",
   "execution_count": 7,
   "id": "3995fbe5",
   "metadata": {},
   "outputs": [
    {
     "data": {
      "text/plain": [
       "household_key        0\n",
       "BASKET_ID            0\n",
       "DAY                  0\n",
       "PRODUCT_ID           0\n",
       "QUANTITY             0\n",
       "SALES_VALUE          0\n",
       "STORE_ID             0\n",
       "RETAIL_DISC          0\n",
       "WEEK_NO              0\n",
       "COUPON_DISC          0\n",
       "COUPON_MATCH_DISC    0\n",
       "dtype: int64"
      ]
     },
     "execution_count": 7,
     "metadata": {},
     "output_type": "execute_result"
    }
   ],
   "source": [
    "transactions.isna().sum()"
   ]
  },
  {
   "cell_type": "code",
   "execution_count": 8,
   "id": "6aa2b45d",
   "metadata": {},
   "outputs": [
    {
     "data": {
      "text/plain": [
       "2099"
      ]
     },
     "execution_count": 8,
     "metadata": {},
     "output_type": "execute_result"
    }
   ],
   "source": [
    "transactions[\"household_key\"].nunique()"
   ]
  },
  {
   "cell_type": "code",
   "execution_count": 9,
   "id": "bed20b5b",
   "metadata": {},
   "outputs": [
    {
     "data": {
      "text/plain": [
       "84138"
      ]
     },
     "execution_count": 9,
     "metadata": {},
     "output_type": "execute_result"
    }
   ],
   "source": [
    "transactions[\"PRODUCT_ID\"].nunique()"
   ]
  },
  {
   "cell_type": "markdown",
   "id": "42983a48",
   "metadata": {},
   "source": [
    "## Column Creation\n",
    "\n",
    "Create two columns:\n",
    "\n",
    "* A column that captures the `total_discount` by row (sum of `RETAIL_DISC`, `COUPON_DISC`)\n",
    "* The percentage disount (`total_discount` / `SALES_VALUE`). Make sure this is positive (try `.abs()`).\n",
    "* If the percentage discount is greater than 1, set it equal to 1. If it is less than 0, set it to 0. \n",
    "* Drop the individual discount columns (`RETAIL_DISC`, `COUPON_DISC`, `COUPON_MATCH_DISC`).\n",
    "\n",
    "Feel free to overwrite the existing transaction DataFrame after making the modifications above."
   ]
  },
  {
   "cell_type": "code",
   "execution_count": 12,
   "id": "e0af83c4",
   "metadata": {},
   "outputs": [
    {
     "data": {
      "text/html": [
       "<div>\n",
       "<style scoped>\n",
       "    .dataframe tbody tr th:only-of-type {\n",
       "        vertical-align: middle;\n",
       "    }\n",
       "\n",
       "    .dataframe tbody tr th {\n",
       "        vertical-align: top;\n",
       "    }\n",
       "\n",
       "    .dataframe thead th {\n",
       "        text-align: right;\n",
       "    }\n",
       "</style>\n",
       "<table border=\"1\" class=\"dataframe\">\n",
       "  <thead>\n",
       "    <tr style=\"text-align: right;\">\n",
       "      <th></th>\n",
       "      <th>household_key</th>\n",
       "      <th>BASKET_ID</th>\n",
       "      <th>DAY</th>\n",
       "      <th>PRODUCT_ID</th>\n",
       "      <th>QUANTITY</th>\n",
       "      <th>SALES_VALUE</th>\n",
       "      <th>STORE_ID</th>\n",
       "      <th>WEEK_NO</th>\n",
       "      <th>total_discount</th>\n",
       "      <th>percentage_discount</th>\n",
       "    </tr>\n",
       "  </thead>\n",
       "  <tbody>\n",
       "    <tr>\n",
       "      <th>1424280</th>\n",
       "      <td>1761</td>\n",
       "      <td>34577361269</td>\n",
       "      <td>-13</td>\n",
       "      <td>8203710</td>\n",
       "      <td>1</td>\n",
       "      <td>3.52</td>\n",
       "      <td>427</td>\n",
       "      <td>72</td>\n",
       "      <td>0.00</td>\n",
       "      <td>0.000000</td>\n",
       "    </tr>\n",
       "    <tr>\n",
       "      <th>1474063</th>\n",
       "      <td>1142</td>\n",
       "      <td>35109131191</td>\n",
       "      <td>1</td>\n",
       "      <td>915284</td>\n",
       "      <td>1</td>\n",
       "      <td>5.49</td>\n",
       "      <td>335</td>\n",
       "      <td>74</td>\n",
       "      <td>0.00</td>\n",
       "      <td>0.000000</td>\n",
       "    </tr>\n",
       "    <tr>\n",
       "      <th>120937</th>\n",
       "      <td>1585</td>\n",
       "      <td>28141091284</td>\n",
       "      <td>96</td>\n",
       "      <td>985808</td>\n",
       "      <td>1</td>\n",
       "      <td>2.00</td>\n",
       "      <td>406</td>\n",
       "      <td>14</td>\n",
       "      <td>-0.99</td>\n",
       "      <td>0.495000</td>\n",
       "    </tr>\n",
       "    <tr>\n",
       "      <th>1738965</th>\n",
       "      <td>304</td>\n",
       "      <td>40618820556</td>\n",
       "      <td>81</td>\n",
       "      <td>855544</td>\n",
       "      <td>1</td>\n",
       "      <td>0.89</td>\n",
       "      <td>322</td>\n",
       "      <td>85</td>\n",
       "      <td>0.00</td>\n",
       "      <td>0.000000</td>\n",
       "    </tr>\n",
       "    <tr>\n",
       "      <th>1049670</th>\n",
       "      <td>72</td>\n",
       "      <td>32715833206</td>\n",
       "      <td>-127</td>\n",
       "      <td>1110695</td>\n",
       "      <td>1</td>\n",
       "      <td>1.67</td>\n",
       "      <td>361</td>\n",
       "      <td>56</td>\n",
       "      <td>-1.02</td>\n",
       "      <td>0.610778</td>\n",
       "    </tr>\n",
       "    <tr>\n",
       "      <th>448191</th>\n",
       "      <td>1776</td>\n",
       "      <td>29808136668</td>\n",
       "      <td>-56</td>\n",
       "      <td>972931</td>\n",
       "      <td>1</td>\n",
       "      <td>1.99</td>\n",
       "      <td>324</td>\n",
       "      <td>29</td>\n",
       "      <td>0.00</td>\n",
       "      <td>0.000000</td>\n",
       "    </tr>\n",
       "    <tr>\n",
       "      <th>1107679</th>\n",
       "      <td>956</td>\n",
       "      <td>32957388478</td>\n",
       "      <td>-109</td>\n",
       "      <td>995965</td>\n",
       "      <td>1</td>\n",
       "      <td>2.00</td>\n",
       "      <td>370</td>\n",
       "      <td>58</td>\n",
       "      <td>-0.99</td>\n",
       "      <td>0.495000</td>\n",
       "    </tr>\n",
       "    <tr>\n",
       "      <th>980073</th>\n",
       "      <td>1822</td>\n",
       "      <td>32407800985</td>\n",
       "      <td>108</td>\n",
       "      <td>965701</td>\n",
       "      <td>1</td>\n",
       "      <td>1.29</td>\n",
       "      <td>364</td>\n",
       "      <td>53</td>\n",
       "      <td>0.00</td>\n",
       "      <td>0.000000</td>\n",
       "    </tr>\n",
       "    <tr>\n",
       "      <th>1471308</th>\n",
       "      <td>1074</td>\n",
       "      <td>35080946634</td>\n",
       "      <td>0</td>\n",
       "      <td>9396699</td>\n",
       "      <td>2</td>\n",
       "      <td>5.98</td>\n",
       "      <td>292</td>\n",
       "      <td>74</td>\n",
       "      <td>-2.00</td>\n",
       "      <td>0.334448</td>\n",
       "    </tr>\n",
       "    <tr>\n",
       "      <th>2100798</th>\n",
       "      <td>1922</td>\n",
       "      <td>42115045658</td>\n",
       "      <td>-70</td>\n",
       "      <td>889863</td>\n",
       "      <td>1</td>\n",
       "      <td>2.99</td>\n",
       "      <td>334</td>\n",
       "      <td>100</td>\n",
       "      <td>0.00</td>\n",
       "      <td>0.000000</td>\n",
       "    </tr>\n",
       "  </tbody>\n",
       "</table>\n",
       "</div>"
      ],
      "text/plain": [
       "         household_key    BASKET_ID   DAY  PRODUCT_ID  QUANTITY  SALES_VALUE  \\\n",
       "1424280           1761  34577361269   -13     8203710         1         3.52   \n",
       "1474063           1142  35109131191     1      915284         1         5.49   \n",
       "120937            1585  28141091284    96      985808         1         2.00   \n",
       "1738965            304  40618820556    81      855544         1         0.89   \n",
       "1049670             72  32715833206  -127     1110695         1         1.67   \n",
       "448191            1776  29808136668   -56      972931         1         1.99   \n",
       "1107679            956  32957388478  -109      995965         1         2.00   \n",
       "980073            1822  32407800985   108      965701         1         1.29   \n",
       "1471308           1074  35080946634     0     9396699         2         5.98   \n",
       "2100798           1922  42115045658   -70      889863         1         2.99   \n",
       "\n",
       "         STORE_ID  WEEK_NO  total_discount  percentage_discount  \n",
       "1424280       427       72            0.00             0.000000  \n",
       "1474063       335       74            0.00             0.000000  \n",
       "120937        406       14           -0.99             0.495000  \n",
       "1738965       322       85            0.00             0.000000  \n",
       "1049670       361       56           -1.02             0.610778  \n",
       "448191        324       29            0.00             0.000000  \n",
       "1107679       370       58           -0.99             0.495000  \n",
       "980073        364       53            0.00             0.000000  \n",
       "1471308       292       74           -2.00             0.334448  \n",
       "2100798       334      100            0.00             0.000000  "
      ]
     },
     "execution_count": 12,
     "metadata": {},
     "output_type": "execute_result"
    }
   ],
   "source": [
    "#My first round...\n",
    "# transactions[\"total_discount\"] =transactions[\"RETAIL_DISC\"]+transactions[\"COUPON_DISC\"]\n",
    "# transactions[\"percentage_discount\"] = transactions[\"total_discount\"].abs()/transactions[\"SALES_VALUE\"]\n",
    "# transactions.sample(10)\n",
    "\n",
    "# After getting hungup on the 3rd item, I looked itup and found a btter way for the first two as well \n",
    "#(forgot about \".assign\")\n",
    "transactions= (transactions\n",
    "               .assign(total_discount =transactions[\"RETAIL_DISC\"]+transactions[\"COUPON_DISC\"], \n",
    "                                  percentage_discount = (lambda x: (x[\"total_discount\"]/x[\"SALES_VALUE\"])\n",
    "                                  .abs()))\n",
    "              .drop([\"RETAIL_DISC\", \"COUPON_DISC\", \"COUPON_MATCH_DISC\"], axis=1))# Needed to add lambda function using\n",
    "                                            # percentage_discount = (transactions[\"total_discount\"]/transactions[\"SALES_VALUE\"])\n",
    "                                            # brought:  \"KeyError: 'total_discount'\"\" (althogh it initially wokred!)\n",
    "# forgot about the \"where\" method to get the 1 and 0!\n",
    "transactions[\"percentage_discount\"] = (transactions[\"percentage_discount\"]\n",
    "                                      .where(transactions[\"percentage_discount\"] < 1, 1.0)\n",
    "                                      .where(transactions[\"percentage_discount\"] > 0, 0))\n",
    "\n",
    "transactions.sample(10)"
   ]
  },
  {
   "cell_type": "markdown",
   "id": "7194e351",
   "metadata": {},
   "source": [
    "## Overall Statistics\n",
    "\n",
    "Calculate:\n",
    "\n",
    "* The total sales (sum of `SALES_VALUE`), \n",
    "* Total discount (sum of `total_discount`)\n",
    "* Overall percentage discount (sum of total_discount / sum of sales value)\n",
    "* Total quantity sold (sum of `QUANTITY`).\n",
    "* Max quantity sold in a single row. Inspect the row as well. Does this have a high discount percentage?\n",
    "* Total sales value per basket (sum of sales value / nunique basket_id).\n",
    "* Total sales value per household (sum of sales value / nunique household_key). "
   ]
  },
  {
   "cell_type": "code",
   "execution_count": null,
   "id": "8b828816",
   "metadata": {},
   "outputs": [],
   "source": []
  },
  {
   "cell_type": "code",
   "execution_count": null,
   "id": "4e041e76",
   "metadata": {},
   "outputs": [],
   "source": []
  },
  {
   "cell_type": "code",
   "execution_count": null,
   "id": "2250c8a8",
   "metadata": {},
   "outputs": [],
   "source": []
  },
  {
   "cell_type": "markdown",
   "id": "89016a20",
   "metadata": {},
   "source": [
    "## Household Analysis\n",
    "\n",
    "* Plot the distribution of total sales value purchased at the household level. \n",
    "* What were the top 10 households by quantity purchased?\n",
    "* What were the top 10 households by sales value?\n",
    "* Plot the total sales value for our top 10 households by value, ordered from highest to lowest.\n"
   ]
  },
  {
   "cell_type": "code",
   "execution_count": null,
   "id": "c3e70a6b",
   "metadata": {},
   "outputs": [],
   "source": []
  },
  {
   "cell_type": "code",
   "execution_count": null,
   "id": "92654f01",
   "metadata": {},
   "outputs": [],
   "source": []
  },
  {
   "cell_type": "code",
   "execution_count": null,
   "id": "3a8e4d39",
   "metadata": {},
   "outputs": [],
   "source": []
  },
  {
   "cell_type": "markdown",
   "id": "24204c05",
   "metadata": {},
   "source": [
    "## Product Analysis\n",
    "\n",
    "* Which products had the most sales by sales_value? Plot  a horizontal bar chart.\n",
    "* Did the top 10 selling items have a higher than average discount rate?\n",
    "* What was the most common `PRODUCT_ID` among rows with the households in our top 10 households by sales value?\n",
    "* Look up the names of the  top 10 products by sales in the `products.csv` dataset.\n",
    "* Look up the product name of the item that had the highest quantity sold in a single row."
   ]
  },
  {
   "cell_type": "code",
   "execution_count": null,
   "id": "b78a084a",
   "metadata": {},
   "outputs": [],
   "source": []
  },
  {
   "cell_type": "code",
   "execution_count": null,
   "id": "d09ad840",
   "metadata": {},
   "outputs": [],
   "source": []
  }
 ],
 "metadata": {
  "kernelspec": {
   "display_name": "Python 3 (ipykernel)",
   "language": "python",
   "name": "python3"
  },
  "language_info": {
   "codemirror_mode": {
    "name": "ipython",
    "version": 3
   },
   "file_extension": ".py",
   "mimetype": "text/x-python",
   "name": "python",
   "nbconvert_exporter": "python",
   "pygments_lexer": "ipython3",
   "version": "3.8.8"
  }
 },
 "nbformat": 4,
 "nbformat_minor": 5
}
