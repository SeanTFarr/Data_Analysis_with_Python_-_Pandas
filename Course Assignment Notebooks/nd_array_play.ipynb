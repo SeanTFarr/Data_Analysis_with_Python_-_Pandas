{
 "cells": [
  {
   "cell_type": "code",
   "execution_count": 1,
   "id": "772ccb9d",
   "metadata": {},
   "outputs": [],
   "source": [
    "import numpy as np"
   ]
  },
  {
   "cell_type": "code",
   "execution_count": 2,
   "id": "d5cbb3f9",
   "metadata": {},
   "outputs": [],
   "source": [
    "#creating a one dimensional array\n",
    "array = np.array(range(5))"
   ]
  },
  {
   "cell_type": "code",
   "execution_count": 3,
   "id": "c0eb2ad5",
   "metadata": {},
   "outputs": [
    {
     "data": {
      "text/plain": [
       "array([0, 1, 2, 3, 4])"
      ]
     },
     "execution_count": 3,
     "metadata": {},
     "output_type": "execute_result"
    }
   ],
   "source": [
    "array"
   ]
  },
  {
   "cell_type": "code",
   "execution_count": 4,
   "id": "1ebe3ca9",
   "metadata": {},
   "outputs": [],
   "source": [
    "#creating a two dimensional array\n",
    "array_2d = np.array([range(5), range(5)])"
   ]
  },
  {
   "cell_type": "code",
   "execution_count": 5,
   "id": "21bc7820",
   "metadata": {},
   "outputs": [
    {
     "data": {
      "text/plain": [
       "array([[0, 1, 2, 3, 4],\n",
       "       [0, 1, 2, 3, 4]])"
      ]
     },
     "execution_count": 5,
     "metadata": {},
     "output_type": "execute_result"
    }
   ],
   "source": [
    "array_2d "
   ]
  },
  {
   "cell_type": "code",
   "execution_count": 6,
   "id": "670edb51",
   "metadata": {},
   "outputs": [
    {
     "data": {
      "text/plain": [
       "(5,)"
      ]
     },
     "execution_count": 6,
     "metadata": {},
     "output_type": "execute_result"
    }
   ],
   "source": [
    "array.shape"
   ]
  },
  {
   "cell_type": "code",
   "execution_count": 7,
   "id": "4479f32a",
   "metadata": {},
   "outputs": [
    {
     "data": {
      "text/plain": [
       "(2, 5)"
      ]
     },
     "execution_count": 7,
     "metadata": {},
     "output_type": "execute_result"
    }
   ],
   "source": [
    "array_2d.shape"
   ]
  },
  {
   "cell_type": "code",
   "execution_count": 8,
   "id": "bd88efbb",
   "metadata": {},
   "outputs": [
    {
     "data": {
      "text/plain": [
       "1"
      ]
     },
     "execution_count": 8,
     "metadata": {},
     "output_type": "execute_result"
    }
   ],
   "source": [
    "array.ndim"
   ]
  },
  {
   "cell_type": "code",
   "execution_count": 9,
   "id": "f86867c3",
   "metadata": {},
   "outputs": [
    {
     "data": {
      "text/plain": [
       "2"
      ]
     },
     "execution_count": 9,
     "metadata": {},
     "output_type": "execute_result"
    }
   ],
   "source": [
    "array_2d.ndim"
   ]
  },
  {
   "cell_type": "code",
   "execution_count": 10,
   "id": "38d3baeb",
   "metadata": {},
   "outputs": [
    {
     "data": {
      "text/plain": [
       "array([[0, 1, 2, 3, 4],\n",
       "       [0, 1, 2, 3, 4]])"
      ]
     },
     "execution_count": 10,
     "metadata": {},
     "output_type": "execute_result"
    }
   ],
   "source": [
    "num_array = np.array([range(5), range(5)])\n",
    "num_array"
   ]
  },
  {
   "cell_type": "code",
   "execution_count": 11,
   "id": "5d720edd",
   "metadata": {},
   "outputs": [
    {
     "data": {
      "text/plain": [
       "array([0, 1, 2, 3, 4])"
      ]
     },
     "execution_count": 11,
     "metadata": {},
     "output_type": "execute_result"
    }
   ],
   "source": [
    "num_array2 = np.arange(5)\n",
    "num_array2 "
   ]
  },
  {
   "cell_type": "code",
   "execution_count": 12,
   "id": "9a645fe3",
   "metadata": {},
   "outputs": [
    {
     "data": {
      "text/plain": [
       "array([0.39682145, 0.86568572, 0.46040359, 0.30599848, 0.57381588,\n",
       "       0.08888468, 0.88194347, 0.73228387, 0.73215182, 0.56233394])"
      ]
     },
     "execution_count": 12,
     "metadata": {},
     "output_type": "execute_result"
    }
   ],
   "source": [
    "#Random number generator\n",
    "rng = np.random.default_rng(616)\n",
    "\n",
    "rng.random(10)"
   ]
  },
  {
   "cell_type": "code",
   "execution_count": 13,
   "id": "716620d7",
   "metadata": {},
   "outputs": [
    {
     "data": {
      "text/plain": [
       "array([8, 3, 6, 0, 3, 3, 1, 2, 2, 4, 9, 1, 2, 5, 1, 8, 9, 0, 3, 1, 5, 8,\n",
       "       0, 6, 1, 7, 0, 7, 6, 0, 3, 7, 1, 9, 4, 1, 6, 1, 4, 4, 9, 5, 3, 4,\n",
       "       7, 8, 3, 3, 5, 0, 4, 9, 9, 5, 6, 5, 8, 2, 3, 0, 0, 8, 3, 8, 4, 8,\n",
       "       8, 9, 7, 3, 8, 4, 9, 2, 6, 3, 0, 3, 2, 0, 0, 4, 9, 5, 4, 1, 8, 2,\n",
       "       7, 7, 1, 2, 2, 4, 1, 6, 7, 3, 7, 5], dtype=int64)"
      ]
     },
     "execution_count": 13,
     "metadata": {},
     "output_type": "execute_result"
    }
   ],
   "source": [
    "rng.integers(0,10,100)"
   ]
  },
  {
   "cell_type": "code",
   "execution_count": 14,
   "id": "d625bb1b",
   "metadata": {},
   "outputs": [
    {
     "data": {
      "text/plain": [
       "array([53.53115044, 46.35468178, 46.1580894 , 52.89177118, 45.90693639,\n",
       "       44.51748741, 57.41467712, 51.82624671, 53.9032125 , 53.21454641])"
      ]
     },
     "execution_count": 14,
     "metadata": {},
     "output_type": "execute_result"
    }
   ],
   "source": [
    "rng.normal(50,5,10)"
   ]
  },
  {
   "cell_type": "code",
   "execution_count": 15,
   "id": "2acef2c6",
   "metadata": {},
   "outputs": [
    {
     "data": {
      "text/plain": [
       "array(['fruits', 'vegetables', 'cereal', 'dairy', 'eggs', 'snacks',\n",
       "       'beverages', 'coffee', 'tea', 'spices'], dtype='<U10')"
      ]
     },
     "execution_count": 15,
     "metadata": {},
     "output_type": "execute_result"
    }
   ],
   "source": [
    "product = (\"fruits\",\"vegetables\",\"cereal\",\"dairy\",\"eggs\",\"snacks\",\"beverages\",\"coffee\",\"tea\",\"spices\")\n",
    "\n",
    "product_array = np.array(product)\n",
    "\n",
    "product_array"
   ]
  },
  {
   "cell_type": "code",
   "execution_count": 16,
   "id": "17bc5cbc",
   "metadata": {},
   "outputs": [
    {
     "data": {
      "text/plain": [
       "'vegetables'"
      ]
     },
     "execution_count": 16,
     "metadata": {},
     "output_type": "execute_result"
    }
   ],
   "source": [
    "product_array[1]"
   ]
  },
  {
   "cell_type": "code",
   "execution_count": 17,
   "id": "c7e016c8",
   "metadata": {},
   "outputs": [
    {
     "data": {
      "text/plain": [
       "array(['fruits', 'vegetables', 'cereal', 'dairy', 'eggs'], dtype='<U10')"
      ]
     },
     "execution_count": 17,
     "metadata": {},
     "output_type": "execute_result"
    }
   ],
   "source": [
    "product_array[:5]"
   ]
  },
  {
   "cell_type": "code",
   "execution_count": 18,
   "id": "b507dfda",
   "metadata": {},
   "outputs": [
    {
     "data": {
      "text/plain": [
       "array(['snacks', 'coffee', 'spices'], dtype='<U10')"
      ]
     },
     "execution_count": 18,
     "metadata": {},
     "output_type": "execute_result"
    }
   ],
   "source": [
    "product_array[5::2]"
   ]
  },
  {
   "cell_type": "code",
   "execution_count": 19,
   "id": "bdca91b9",
   "metadata": {},
   "outputs": [
    {
     "data": {
      "text/plain": [
       "array([['fruits', 'vegetables', 'cereal', 'dairy', 'eggs'],\n",
       "       ['snacks', 'beverages', 'coffee', 'tea', 'spices']], dtype='<U10')"
      ]
     },
     "execution_count": 19,
     "metadata": {},
     "output_type": "execute_result"
    }
   ],
   "source": [
    "product_array2 = product_array.reshape(2,5)\n",
    "product_array2"
   ]
  },
  {
   "cell_type": "code",
   "execution_count": 20,
   "id": "9b2f59b7",
   "metadata": {},
   "outputs": [
    {
     "data": {
      "text/plain": [
       "'coffee'"
      ]
     },
     "execution_count": 20,
     "metadata": {},
     "output_type": "execute_result"
    }
   ],
   "source": [
    "#goes to second row, third element\n",
    "product_array2[1,2]"
   ]
  },
  {
   "cell_type": "code",
   "execution_count": 21,
   "id": "975de4b2",
   "metadata": {},
   "outputs": [
    {
     "data": {
      "text/plain": [
       "array([['cereal', 'dairy', 'eggs'],\n",
       "       ['coffee', 'tea', 'spices']], dtype='<U10')"
      ]
     },
     "execution_count": 21,
     "metadata": {},
     "output_type": "execute_result"
    }
   ],
   "source": [
    "#all row, grabs elements starting at 3rd\n",
    "product_array2[:,2:]"
   ]
  },
  {
   "cell_type": "code",
   "execution_count": 22,
   "id": "07385a7d",
   "metadata": {},
   "outputs": [
    {
     "data": {
      "text/plain": [
       "array([['snacks', 'beverages', 'coffee', 'tea', 'spices']], dtype='<U10')"
      ]
     },
     "execution_count": 22,
     "metadata": {},
     "output_type": "execute_result"
    }
   ],
   "source": [
    "#goes to second row and grabs all elements\n",
    "product_array2[1:,:]"
   ]
  },
  {
   "cell_type": "markdown",
   "id": "1e9c75d5",
   "metadata": {},
   "source": [
    "## Filtering arrays"
   ]
  },
  {
   "cell_type": "code",
   "execution_count": 23,
   "id": "b9fc9b18",
   "metadata": {},
   "outputs": [
    {
     "data": {
      "text/plain": [
       "array([ 0,  1,  2,  3,  4,  5,  6,  7,  8,  9, 10, 11, 12, 13, 14, 15, 16,\n",
       "       17, 18, 19])"
      ]
     },
     "execution_count": 23,
     "metadata": {},
     "output_type": "execute_result"
    }
   ],
   "source": [
    "my_array = np.arange(20)\n",
    "my_array"
   ]
  },
  {
   "cell_type": "code",
   "execution_count": 24,
   "id": "372cded4",
   "metadata": {},
   "outputs": [
    {
     "data": {
      "text/plain": [
       "array([ True, False,  True, False,  True, False,  True, False,  True,\n",
       "       False,  True, False,  True, False,  True, False,  True, False,\n",
       "        True, False])"
      ]
     },
     "execution_count": 24,
     "metadata": {},
     "output_type": "execute_result"
    }
   ],
   "source": [
    "#to test if even numbers are in array, boolean check\n",
    "my_array % 2 == 0"
   ]
  },
  {
   "cell_type": "code",
   "execution_count": 25,
   "id": "b8f0565f",
   "metadata": {},
   "outputs": [
    {
     "data": {
      "text/plain": [
       "array([ 0,  2,  4,  6,  8, 10, 12, 14, 16, 18])"
      ]
     },
     "execution_count": 25,
     "metadata": {},
     "output_type": "execute_result"
    }
   ],
   "source": [
    "#to filter out numbers that are not even:\n",
    "my_array[my_array % 2 == 0]"
   ]
  },
  {
   "cell_type": "markdown",
   "id": "dfa5fbdc",
   "metadata": {},
   "source": [
    "## Array Aggregation"
   ]
  },
  {
   "cell_type": "code",
   "execution_count": 26,
   "id": "626239f7",
   "metadata": {},
   "outputs": [
    {
     "data": {
      "text/plain": [
       "array([3.97, 8.66, 4.6 , 3.06, 5.74, 0.89, 8.82, 7.32, 7.32, 5.62])"
      ]
     },
     "execution_count": 26,
     "metadata": {},
     "output_type": "execute_result"
    }
   ],
   "source": [
    "rng = np.random.default_rng(616)\n",
    "\n",
    "price = (rng.random(10) * 10).round(2)\n",
    "\n",
    "price"
   ]
  },
  {
   "cell_type": "code",
   "execution_count": 27,
   "id": "61d8e19c",
   "metadata": {},
   "outputs": [
    {
     "data": {
      "text/plain": [
       "array([80, 33, 60,  6, 31, 35, 16, 20, 29, 43], dtype=int64)"
      ]
     },
     "execution_count": 27,
     "metadata": {},
     "output_type": "execute_result"
    }
   ],
   "source": [
    "inventory = rng.integers(0,100, 10)\n",
    "\n",
    "inventory"
   ]
  },
  {
   "cell_type": "code",
   "execution_count": 28,
   "id": "769373d5",
   "metadata": {},
   "outputs": [
    {
     "data": {
      "text/plain": [
       "35.3"
      ]
     },
     "execution_count": 28,
     "metadata": {},
     "output_type": "execute_result"
    }
   ],
   "source": [
    "inventory.mean()"
   ]
  },
  {
   "cell_type": "code",
   "execution_count": 29,
   "id": "65536b7d",
   "metadata": {},
   "outputs": [
    {
     "data": {
      "text/plain": [
       "80"
      ]
     },
     "execution_count": 29,
     "metadata": {},
     "output_type": "execute_result"
    }
   ],
   "source": [
    "inventory.max()"
   ]
  },
  {
   "cell_type": "code",
   "execution_count": 30,
   "id": "454452f6",
   "metadata": {},
   "outputs": [
    {
     "data": {
      "text/plain": [
       "6"
      ]
     },
     "execution_count": 30,
     "metadata": {},
     "output_type": "execute_result"
    }
   ],
   "source": [
    "inventory.min()"
   ]
  },
  {
   "cell_type": "code",
   "execution_count": 31,
   "id": "ff12469a",
   "metadata": {},
   "outputs": [
    {
     "data": {
      "text/plain": [
       "20.48438429633656"
      ]
     },
     "execution_count": 31,
     "metadata": {},
     "output_type": "execute_result"
    }
   ],
   "source": [
    "inventory.std()"
   ]
  },
  {
   "cell_type": "code",
   "execution_count": 32,
   "id": "04b29026",
   "metadata": {},
   "outputs": [
    {
     "data": {
      "text/plain": [
       "353"
      ]
     },
     "execution_count": 32,
     "metadata": {},
     "output_type": "execute_result"
    }
   ],
   "source": [
    "inventory.sum()"
   ]
  },
  {
   "cell_type": "code",
   "execution_count": 33,
   "id": "b7e525ad",
   "metadata": {},
   "outputs": [
    {
     "data": {
      "text/plain": [
       "array([317.6 , 285.78, 276.  ,  18.36, 177.94,  31.15, 141.12, 146.4 ,\n",
       "       212.28, 241.66])"
      ]
     },
     "execution_count": 33,
     "metadata": {},
     "output_type": "execute_result"
    }
   ],
   "source": [
    "(price * inventory)"
   ]
  },
  {
   "cell_type": "code",
   "execution_count": 35,
   "id": "a408d215",
   "metadata": {},
   "outputs": [
    {
     "data": {
      "text/plain": [
       "1848.29"
      ]
     },
     "execution_count": 35,
     "metadata": {},
     "output_type": "execute_result"
    }
   ],
   "source": [
    "(price * inventory).sum().round(2)"
   ]
  },
  {
   "cell_type": "code",
   "execution_count": 36,
   "id": "db112014",
   "metadata": {},
   "outputs": [
    {
     "data": {
      "text/plain": [
       "0"
      ]
     },
     "execution_count": 36,
     "metadata": {},
     "output_type": "execute_result"
    }
   ],
   "source": [
    "(price * inventory).argmax()"
   ]
  },
  {
   "cell_type": "code",
   "execution_count": 37,
   "id": "5f1a5a6f",
   "metadata": {},
   "outputs": [
    {
     "data": {
      "text/plain": [
       "array([[3.97, 8.66],\n",
       "       [4.6 , 3.06],\n",
       "       [5.74, 0.89],\n",
       "       [8.82, 7.32],\n",
       "       [7.32, 5.62]])"
      ]
     },
     "execution_count": 37,
     "metadata": {},
     "output_type": "execute_result"
    }
   ],
   "source": [
    "price_2d = price.reshape(5,2)\n",
    "price_2d"
   ]
  },
  {
   "cell_type": "code",
   "execution_count": 38,
   "id": "26c1cf0d",
   "metadata": {},
   "outputs": [
    {
     "data": {
      "text/plain": [
       "array([30.45, 25.55])"
      ]
     },
     "execution_count": 38,
     "metadata": {},
     "output_type": "execute_result"
    }
   ],
   "source": [
    "# to get a sum of the the rows, by column, use axis=0\n",
    "price_2d.sum(axis=0)"
   ]
  },
  {
   "cell_type": "code",
   "execution_count": 39,
   "id": "2ba32848",
   "metadata": {},
   "outputs": [
    {
     "data": {
      "text/plain": [
       "array([12.63,  7.66,  6.63, 16.14, 12.94])"
      ]
     },
     "execution_count": 39,
     "metadata": {},
     "output_type": "execute_result"
    }
   ],
   "source": [
    "# to get a sum of the the rows, by rows, use axis=1\n",
    "price_2d.sum(axis=1)"
   ]
  },
  {
   "cell_type": "markdown",
   "id": "cc9f9f80",
   "metadata": {},
   "source": [
    "## Array Functions"
   ]
  },
  {
   "cell_type": "code",
   "execution_count": 40,
   "id": "b6eaf8da",
   "metadata": {},
   "outputs": [
    {
     "data": {
      "text/plain": [
       "array([317.6 , 285.78, 276.  ,  18.36, 177.94,  31.15, 141.12, 146.4 ,\n",
       "       212.28, 241.66])"
      ]
     },
     "execution_count": 40,
     "metadata": {},
     "output_type": "execute_result"
    }
   ],
   "source": [
    "product_value = (price * inventory)\n",
    "product_value"
   ]
  },
  {
   "cell_type": "code",
   "execution_count": 41,
   "id": "db13c014",
   "metadata": {},
   "outputs": [
    {
     "data": {
      "text/plain": [
       "array([[317.6 , 285.78, 276.  ,  18.36, 177.94],\n",
       "       [ 31.15, 141.12, 146.4 , 212.28, 241.66]])"
      ]
     },
     "execution_count": 41,
     "metadata": {},
     "output_type": "execute_result"
    }
   ],
   "source": [
    "reshaped_product_value = product_value.reshape(2,5)\n",
    "reshaped_product_value"
   ]
  },
  {
   "cell_type": "code",
   "execution_count": 42,
   "id": "12dcf4cd",
   "metadata": {},
   "outputs": [
    {
     "data": {
      "text/plain": [
       "195.11"
      ]
     },
     "execution_count": 42,
     "metadata": {},
     "output_type": "execute_result"
    }
   ],
   "source": [
    "np.median(reshaped_product_value)"
   ]
  },
  {
   "cell_type": "code",
   "execution_count": 44,
   "id": "7e2dcac6",
   "metadata": {},
   "outputs": [
    {
     "data": {
      "text/plain": [
       "267.415"
      ]
     },
     "execution_count": 44,
     "metadata": {},
     "output_type": "execute_result"
    }
   ],
   "source": [
    "np.percentile(reshaped_product_value, 75)"
   ]
  },
  {
   "cell_type": "code",
   "execution_count": 45,
   "id": "3e0d66a8",
   "metadata": {},
   "outputs": [
    {
     "data": {
      "text/plain": [
       "array([[17.82133553, 16.90502884, 16.61324773,  4.28485706, 13.33941528],\n",
       "       [ 5.5812185 , 11.87939392, 12.09958677, 14.56983185, 15.54541733]])"
      ]
     },
     "execution_count": 45,
     "metadata": {},
     "output_type": "execute_result"
    }
   ],
   "source": [
    "np.sqrt(reshaped_product_value)"
   ]
  },
  {
   "cell_type": "code",
   "execution_count": 47,
   "id": "f392c59e",
   "metadata": {},
   "outputs": [
    {
     "data": {
      "text/plain": [
       "array([ 18.36,  31.15, 141.12, 146.4 , 177.94, 212.28, 241.66, 276.  ,\n",
       "       285.78, 317.6 ])"
      ]
     },
     "execution_count": 47,
     "metadata": {},
     "output_type": "execute_result"
    }
   ],
   "source": [
    "np.sort(product_value)"
   ]
  },
  {
   "cell_type": "code",
   "execution_count": null,
   "id": "04d7bc7b",
   "metadata": {},
   "outputs": [],
   "source": []
  },
  {
   "cell_type": "code",
   "execution_count": null,
   "id": "cbab4ac7",
   "metadata": {},
   "outputs": [],
   "source": []
  }
 ],
 "metadata": {
  "kernelspec": {
   "display_name": "Python 3 (ipykernel)",
   "language": "python",
   "name": "python3"
  },
  "language_info": {
   "codemirror_mode": {
    "name": "ipython",
    "version": 3
   },
   "file_extension": ".py",
   "mimetype": "text/x-python",
   "name": "python",
   "nbconvert_exporter": "python",
   "pygments_lexer": "ipython3",
   "version": "3.8.8"
  }
 },
 "nbformat": 4,
 "nbformat_minor": 5
}
