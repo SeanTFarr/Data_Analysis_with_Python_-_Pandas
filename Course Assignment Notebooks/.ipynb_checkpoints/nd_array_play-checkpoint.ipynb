{
 "cells": [
  {
   "cell_type": "code",
   "execution_count": 1,
   "id": "772ccb9d",
   "metadata": {},
   "outputs": [],
   "source": [
    "import numpy as np"
   ]
  },
  {
   "cell_type": "code",
   "execution_count": 2,
   "id": "d5cbb3f9",
   "metadata": {},
   "outputs": [],
   "source": [
    "#creating a one dimensional array\n",
    "array = np.array(range(5))"
   ]
  },
  {
   "cell_type": "code",
   "execution_count": 3,
   "id": "c0eb2ad5",
   "metadata": {},
   "outputs": [
    {
     "data": {
      "text/plain": [
       "array([0, 1, 2, 3, 4])"
      ]
     },
     "execution_count": 3,
     "metadata": {},
     "output_type": "execute_result"
    }
   ],
   "source": [
    "array"
   ]
  },
  {
   "cell_type": "code",
   "execution_count": 4,
   "id": "1ebe3ca9",
   "metadata": {},
   "outputs": [],
   "source": [
    "#creating a two dimensional array\n",
    "array_2d = np.array([range(5), range(5)])"
   ]
  },
  {
   "cell_type": "code",
   "execution_count": 5,
   "id": "21bc7820",
   "metadata": {},
   "outputs": [
    {
     "data": {
      "text/plain": [
       "array([[0, 1, 2, 3, 4],\n",
       "       [0, 1, 2, 3, 4]])"
      ]
     },
     "execution_count": 5,
     "metadata": {},
     "output_type": "execute_result"
    }
   ],
   "source": [
    "array_2d "
   ]
  },
  {
   "cell_type": "code",
   "execution_count": 6,
   "id": "670edb51",
   "metadata": {},
   "outputs": [
    {
     "data": {
      "text/plain": [
       "(5,)"
      ]
     },
     "execution_count": 6,
     "metadata": {},
     "output_type": "execute_result"
    }
   ],
   "source": [
    "array.shape"
   ]
  },
  {
   "cell_type": "code",
   "execution_count": 7,
   "id": "4479f32a",
   "metadata": {},
   "outputs": [
    {
     "data": {
      "text/plain": [
       "(2, 5)"
      ]
     },
     "execution_count": 7,
     "metadata": {},
     "output_type": "execute_result"
    }
   ],
   "source": [
    "array_2d.shape"
   ]
  },
  {
   "cell_type": "code",
   "execution_count": 9,
   "id": "bd88efbb",
   "metadata": {},
   "outputs": [
    {
     "data": {
      "text/plain": [
       "1"
      ]
     },
     "execution_count": 9,
     "metadata": {},
     "output_type": "execute_result"
    }
   ],
   "source": [
    "array.ndim"
   ]
  },
  {
   "cell_type": "code",
   "execution_count": 10,
   "id": "f86867c3",
   "metadata": {},
   "outputs": [
    {
     "data": {
      "text/plain": [
       "2"
      ]
     },
     "execution_count": 10,
     "metadata": {},
     "output_type": "execute_result"
    }
   ],
   "source": [
    "array_2d.ndim"
   ]
  },
  {
   "cell_type": "code",
   "execution_count": 11,
   "id": "38d3baeb",
   "metadata": {},
   "outputs": [
    {
     "data": {
      "text/plain": [
       "array([[0, 1, 2, 3, 4],\n",
       "       [0, 1, 2, 3, 4]])"
      ]
     },
     "execution_count": 11,
     "metadata": {},
     "output_type": "execute_result"
    }
   ],
   "source": [
    "num_array = np.array([range(5), range(5)])\n",
    "num_array"
   ]
  },
  {
   "cell_type": "code",
   "execution_count": 36,
   "id": "5d720edd",
   "metadata": {},
   "outputs": [
    {
     "data": {
      "text/plain": [
       "array([0, 1, 2, 3, 4])"
      ]
     },
     "execution_count": 36,
     "metadata": {},
     "output_type": "execute_result"
    }
   ],
   "source": [
    "num_array2 = np.arange(5)\n",
    "num_array2 "
   ]
  },
  {
   "cell_type": "code",
   "execution_count": 37,
   "id": "9a645fe3",
   "metadata": {},
   "outputs": [
    {
     "data": {
      "text/plain": [
       "array([0.39682145, 0.86568572, 0.46040359, 0.30599848, 0.57381588,\n",
       "       0.08888468, 0.88194347, 0.73228387, 0.73215182, 0.56233394])"
      ]
     },
     "execution_count": 37,
     "metadata": {},
     "output_type": "execute_result"
    }
   ],
   "source": [
    "#Random number generator\n",
    "rng = np.random.default_rng(616)\n",
    "\n",
    "rng.random(10)"
   ]
  },
  {
   "cell_type": "code",
   "execution_count": 38,
   "id": "716620d7",
   "metadata": {},
   "outputs": [
    {
     "data": {
      "text/plain": [
       "array([8, 3, 6, 0, 3, 3, 1, 2, 2, 4, 9, 1, 2, 5, 1, 8, 9, 0, 3, 1, 5, 8,\n",
       "       0, 6, 1, 7, 0, 7, 6, 0, 3, 7, 1, 9, 4, 1, 6, 1, 4, 4, 9, 5, 3, 4,\n",
       "       7, 8, 3, 3, 5, 0, 4, 9, 9, 5, 6, 5, 8, 2, 3, 0, 0, 8, 3, 8, 4, 8,\n",
       "       8, 9, 7, 3, 8, 4, 9, 2, 6, 3, 0, 3, 2, 0, 0, 4, 9, 5, 4, 1, 8, 2,\n",
       "       7, 7, 1, 2, 2, 4, 1, 6, 7, 3, 7, 5], dtype=int64)"
      ]
     },
     "execution_count": 38,
     "metadata": {},
     "output_type": "execute_result"
    }
   ],
   "source": [
    "rng.integers(0,10,100)"
   ]
  },
  {
   "cell_type": "code",
   "execution_count": 41,
   "id": "d625bb1b",
   "metadata": {},
   "outputs": [
    {
     "data": {
      "text/plain": [
       "array([53.53115044, 46.35468178, 46.1580894 , 52.89177118, 45.90693639,\n",
       "       44.51748741, 57.41467712, 51.82624671, 53.9032125 , 53.21454641])"
      ]
     },
     "execution_count": 41,
     "metadata": {},
     "output_type": "execute_result"
    }
   ],
   "source": [
    "rng.normal(50,5,10)"
   ]
  },
  {
   "cell_type": "code",
   "execution_count": 42,
   "id": "2acef2c6",
   "metadata": {},
   "outputs": [
    {
     "data": {
      "text/plain": [
       "array(['fruits', 'vegetables', 'cereal', 'dairy', 'eggs', 'snacks',\n",
       "       'beverages', 'coffee', 'tea', 'spices'], dtype='<U10')"
      ]
     },
     "execution_count": 42,
     "metadata": {},
     "output_type": "execute_result"
    }
   ],
   "source": [
    "product = (\"fruits\",\"vegetables\",\"cereal\",\"dairy\",\"eggs\",\"snacks\",\"beverages\",\"coffee\",\"tea\",\"spices\")\n",
    "\n",
    "product_array = np.array(product)\n",
    "\n",
    "product_array"
   ]
  },
  {
   "cell_type": "code",
   "execution_count": 43,
   "id": "17bc5cbc",
   "metadata": {},
   "outputs": [
    {
     "data": {
      "text/plain": [
       "'vegetables'"
      ]
     },
     "execution_count": 43,
     "metadata": {},
     "output_type": "execute_result"
    }
   ],
   "source": [
    "product_array[1]"
   ]
  },
  {
   "cell_type": "code",
   "execution_count": 44,
   "id": "c7e016c8",
   "metadata": {},
   "outputs": [
    {
     "data": {
      "text/plain": [
       "array(['fruits', 'vegetables', 'cereal', 'dairy', 'eggs'], dtype='<U10')"
      ]
     },
     "execution_count": 44,
     "metadata": {},
     "output_type": "execute_result"
    }
   ],
   "source": [
    "product_array[:5]"
   ]
  },
  {
   "cell_type": "code",
   "execution_count": 45,
   "id": "b507dfda",
   "metadata": {},
   "outputs": [
    {
     "data": {
      "text/plain": [
       "array(['snacks', 'coffee', 'spices'], dtype='<U10')"
      ]
     },
     "execution_count": 45,
     "metadata": {},
     "output_type": "execute_result"
    }
   ],
   "source": [
    "product_array[5::2]"
   ]
  },
  {
   "cell_type": "code",
   "execution_count": 46,
   "id": "bdca91b9",
   "metadata": {},
   "outputs": [
    {
     "data": {
      "text/plain": [
       "array([['fruits', 'vegetables', 'cereal', 'dairy', 'eggs'],\n",
       "       ['snacks', 'beverages', 'coffee', 'tea', 'spices']], dtype='<U10')"
      ]
     },
     "execution_count": 46,
     "metadata": {},
     "output_type": "execute_result"
    }
   ],
   "source": [
    "product_array2 = product_array.reshape(2,5)\n",
    "product_array2"
   ]
  },
  {
   "cell_type": "code",
   "execution_count": 47,
   "id": "9b2f59b7",
   "metadata": {},
   "outputs": [
    {
     "data": {
      "text/plain": [
       "'coffee'"
      ]
     },
     "execution_count": 47,
     "metadata": {},
     "output_type": "execute_result"
    }
   ],
   "source": [
    "#goes to second row, third element\n",
    "product_array2[1,2]"
   ]
  },
  {
   "cell_type": "code",
   "execution_count": null,
   "id": "975de4b2",
   "metadata": {},
   "outputs": [],
   "source": [
    "#all row, grabs elements starting at 3rd\n",
    "product_array2[:,2:]"
   ]
  },
  {
   "cell_type": "code",
   "execution_count": 48,
   "id": "07385a7d",
   "metadata": {},
   "outputs": [
    {
     "data": {
      "text/plain": [
       "array([['snacks', 'beverages', 'coffee', 'tea', 'spices']], dtype='<U10')"
      ]
     },
     "execution_count": 48,
     "metadata": {},
     "output_type": "execute_result"
    }
   ],
   "source": [
    "#goes to second row and grabs all elements\n",
    "product_array2[1:,:]"
   ]
  },
  {
   "cell_type": "code",
   "execution_count": null,
   "id": "b9fc9b18",
   "metadata": {},
   "outputs": [],
   "source": []
  }
 ],
 "metadata": {
  "kernelspec": {
   "display_name": "Python 3 (ipykernel)",
   "language": "python",
   "name": "python3"
  },
  "language_info": {
   "codemirror_mode": {
    "name": "ipython",
    "version": 3
   },
   "file_extension": ".py",
   "mimetype": "text/x-python",
   "name": "python",
   "nbconvert_exporter": "python",
   "pygments_lexer": "ipython3",
   "version": "3.8.8"
  }
 },
 "nbformat": 4,
 "nbformat_minor": 5
}
